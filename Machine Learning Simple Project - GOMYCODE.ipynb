{
 "cells": [
  {
   "cell_type": "markdown",
   "id": "086550de",
   "metadata": {},
   "source": [
    "# This project is about trying to predict which Wilaya is the best to have a real shop for this E-Commerce shop."
   ]
  },
  {
   "cell_type": "code",
   "execution_count": 45,
   "id": "9c6d24c9",
   "metadata": {},
   "outputs": [],
   "source": [
    "#Libraries\n",
    "import numpy as np\n",
    "import pandas as pd\n",
    "import seaborn as sns\n",
    "import matplotlib.pyplot as plt\n",
    "\n",
    "from sklearn.model_selection import train_test_split\n",
    "from sklearn.neighbors import KNeighborsClassifier\n",
    "from sklearn.metrics import accuracy_score"
   ]
  },
  {
   "cell_type": "markdown",
   "id": "236d93b7",
   "metadata": {},
   "source": [
    "### Reading the excel sheet - data"
   ]
  },
  {
   "cell_type": "code",
   "execution_count": 46,
   "id": "6850c6fc",
   "metadata": {},
   "outputs": [
    {
     "data": {
      "text/html": [
       "<div>\n",
       "<style scoped>\n",
       "    .dataframe tbody tr th:only-of-type {\n",
       "        vertical-align: middle;\n",
       "    }\n",
       "\n",
       "    .dataframe tbody tr th {\n",
       "        vertical-align: top;\n",
       "    }\n",
       "\n",
       "    .dataframe thead th {\n",
       "        text-align: right;\n",
       "    }\n",
       "</style>\n",
       "<table border=\"1\" class=\"dataframe\">\n",
       "  <thead>\n",
       "    <tr style=\"text-align: right;\">\n",
       "      <th></th>\n",
       "      <th>Wilaya</th>\n",
       "      <th>Mois</th>\n",
       "      <th>Colonne1</th>\n",
       "      <th>Modeles</th>\n",
       "      <th>Price</th>\n",
       "      <th>Levels</th>\n",
       "      <th>Sell in</th>\n",
       "      <th>Sell out</th>\n",
       "      <th>Monthly Stock Turnover</th>\n",
       "      <th>Revenue</th>\n",
       "    </tr>\n",
       "  </thead>\n",
       "  <tbody>\n",
       "    <tr>\n",
       "      <th>0</th>\n",
       "      <td>Tipaza</td>\n",
       "      <td>1</td>\n",
       "      <td>1</td>\n",
       "      <td>A5s</td>\n",
       "      <td>25200</td>\n",
       "      <td>Level C</td>\n",
       "      <td>6</td>\n",
       "      <td>8</td>\n",
       "      <td>0.75</td>\n",
       "      <td>151200</td>\n",
       "    </tr>\n",
       "    <tr>\n",
       "      <th>1</th>\n",
       "      <td>Tipaza</td>\n",
       "      <td>1</td>\n",
       "      <td>1</td>\n",
       "      <td>A1K</td>\n",
       "      <td>19700</td>\n",
       "      <td>Level C</td>\n",
       "      <td>2</td>\n",
       "      <td>4</td>\n",
       "      <td>0.50</td>\n",
       "      <td>39400</td>\n",
       "    </tr>\n",
       "    <tr>\n",
       "      <th>2</th>\n",
       "      <td>Tipaza</td>\n",
       "      <td>1</td>\n",
       "      <td>1</td>\n",
       "      <td>Reno 2F</td>\n",
       "      <td>55900</td>\n",
       "      <td>Level C</td>\n",
       "      <td>0</td>\n",
       "      <td>0</td>\n",
       "      <td>0.00</td>\n",
       "      <td>0</td>\n",
       "    </tr>\n",
       "    <tr>\n",
       "      <th>3</th>\n",
       "      <td>Tipaza</td>\n",
       "      <td>1</td>\n",
       "      <td>1</td>\n",
       "      <td>A31 (4+64)</td>\n",
       "      <td>32600</td>\n",
       "      <td>Level C</td>\n",
       "      <td>0</td>\n",
       "      <td>0</td>\n",
       "      <td>0.00</td>\n",
       "      <td>0</td>\n",
       "    </tr>\n",
       "    <tr>\n",
       "      <th>4</th>\n",
       "      <td>Tipaza</td>\n",
       "      <td>1</td>\n",
       "      <td>1</td>\n",
       "      <td>Reno 3</td>\n",
       "      <td>58700</td>\n",
       "      <td>Level C</td>\n",
       "      <td>0</td>\n",
       "      <td>0</td>\n",
       "      <td>0.00</td>\n",
       "      <td>0</td>\n",
       "    </tr>\n",
       "    <tr>\n",
       "      <th>...</th>\n",
       "      <td>...</td>\n",
       "      <td>...</td>\n",
       "      <td>...</td>\n",
       "      <td>...</td>\n",
       "      <td>...</td>\n",
       "      <td>...</td>\n",
       "      <td>...</td>\n",
       "      <td>...</td>\n",
       "      <td>...</td>\n",
       "      <td>...</td>\n",
       "    </tr>\n",
       "    <tr>\n",
       "      <th>129002</th>\n",
       "      <td>Blida</td>\n",
       "      <td>11</td>\n",
       "      <td>11</td>\n",
       "      <td>A93</td>\n",
       "      <td>51900</td>\n",
       "      <td>New shop</td>\n",
       "      <td>0</td>\n",
       "      <td>0</td>\n",
       "      <td>0.00</td>\n",
       "      <td>0</td>\n",
       "    </tr>\n",
       "    <tr>\n",
       "      <th>129003</th>\n",
       "      <td>Tipaza</td>\n",
       "      <td>11</td>\n",
       "      <td>11</td>\n",
       "      <td>A93</td>\n",
       "      <td>51900</td>\n",
       "      <td>Level D</td>\n",
       "      <td>0</td>\n",
       "      <td>0</td>\n",
       "      <td>0.00</td>\n",
       "      <td>0</td>\n",
       "    </tr>\n",
       "    <tr>\n",
       "      <th>129004</th>\n",
       "      <td>Alger Ouest</td>\n",
       "      <td>11</td>\n",
       "      <td>11</td>\n",
       "      <td>A93</td>\n",
       "      <td>51900</td>\n",
       "      <td>New shop</td>\n",
       "      <td>0</td>\n",
       "      <td>0</td>\n",
       "      <td>0.00</td>\n",
       "      <td>0</td>\n",
       "    </tr>\n",
       "    <tr>\n",
       "      <th>129005</th>\n",
       "      <td>Bouira</td>\n",
       "      <td>11</td>\n",
       "      <td>11</td>\n",
       "      <td>A93</td>\n",
       "      <td>51900</td>\n",
       "      <td>Level D</td>\n",
       "      <td>0</td>\n",
       "      <td>0</td>\n",
       "      <td>0.00</td>\n",
       "      <td>0</td>\n",
       "    </tr>\n",
       "    <tr>\n",
       "      <th>129006</th>\n",
       "      <td>Boumerdes</td>\n",
       "      <td>11</td>\n",
       "      <td>11</td>\n",
       "      <td>A93</td>\n",
       "      <td>51900</td>\n",
       "      <td>New shop</td>\n",
       "      <td>0</td>\n",
       "      <td>0</td>\n",
       "      <td>0.00</td>\n",
       "      <td>0</td>\n",
       "    </tr>\n",
       "  </tbody>\n",
       "</table>\n",
       "<p>129007 rows × 10 columns</p>\n",
       "</div>"
      ],
      "text/plain": [
       "             Wilaya  Mois  Colonne1     Modeles  Price     Levels  Sell in  \\\n",
       "0            Tipaza     1         1         A5s  25200    Level C        6   \n",
       "1            Tipaza     1         1         A1K  19700    Level C        2   \n",
       "2            Tipaza     1         1     Reno 2F  55900    Level C        0   \n",
       "3            Tipaza     1         1  A31 (4+64)  32600    Level C        0   \n",
       "4            Tipaza     1         1      Reno 3  58700    Level C        0   \n",
       "...             ...   ...       ...         ...    ...        ...      ...   \n",
       "129002        Blida    11        11         A93  51900  New shop         0   \n",
       "129003       Tipaza    11        11         A93  51900    Level D        0   \n",
       "129004  Alger Ouest    11        11         A93  51900  New shop         0   \n",
       "129005       Bouira    11        11         A93  51900    Level D        0   \n",
       "129006    Boumerdes    11        11         A93  51900  New shop         0   \n",
       "\n",
       "        Sell out  Monthly Stock Turnover  Revenue  \n",
       "0              8                    0.75   151200  \n",
       "1              4                    0.50    39400  \n",
       "2              0                    0.00        0  \n",
       "3              0                    0.00        0  \n",
       "4              0                    0.00        0  \n",
       "...          ...                     ...      ...  \n",
       "129002         0                    0.00        0  \n",
       "129003         0                    0.00        0  \n",
       "129004         0                    0.00        0  \n",
       "129005         0                    0.00        0  \n",
       "129006         0                    0.00        0  \n",
       "\n",
       "[129007 rows x 10 columns]"
      ]
     },
     "execution_count": 46,
     "metadata": {},
     "output_type": "execute_result"
    }
   ],
   "source": [
    "data=pd.read_excel(\"Downloads/ShopsDatabase.xlsx\")\n",
    "data"
   ]
  },
  {
   "cell_type": "code",
   "execution_count": 47,
   "id": "4d94355b",
   "metadata": {},
   "outputs": [
    {
     "name": "stdout",
     "output_type": "stream",
     "text": [
      "<class 'pandas.core.frame.DataFrame'>\n",
      "RangeIndex: 129007 entries, 0 to 129006\n",
      "Data columns (total 10 columns):\n",
      " #   Column                  Non-Null Count   Dtype  \n",
      "---  ------                  --------------   -----  \n",
      " 0   Wilaya                  129007 non-null  object \n",
      " 1   Mois                    129007 non-null  int64  \n",
      " 2   Colonne1                129007 non-null  int64  \n",
      " 3   Modeles                 129007 non-null  object \n",
      " 4   Price                   129007 non-null  int64  \n",
      " 5   Levels                  129007 non-null  object \n",
      " 6   Sell in                 129007 non-null  int64  \n",
      " 7   Sell out                129007 non-null  int64  \n",
      " 8   Monthly Stock Turnover  129007 non-null  float64\n",
      " 9   Revenue                 129007 non-null  int64  \n",
      "dtypes: float64(1), int64(6), object(3)\n",
      "memory usage: 9.8+ MB\n"
     ]
    }
   ],
   "source": [
    "data.info()"
   ]
  },
  {
   "cell_type": "markdown",
   "id": "33a6fb17",
   "metadata": {},
   "source": [
    "### This data contain 10 columns and 129007 rows"
   ]
  },
  {
   "cell_type": "code",
   "execution_count": 48,
   "id": "c7d5b8d0",
   "metadata": {},
   "outputs": [
    {
     "name": "stdout",
     "output_type": "stream",
     "text": [
      "Wilaya                    0\n",
      "Mois                      0\n",
      "Colonne1                  0\n",
      "Modeles                   0\n",
      "Price                     0\n",
      "Levels                    0\n",
      "Sell in                   0\n",
      "Sell out                  0\n",
      "Monthly Stock Turnover    0\n",
      "Revenue                   0\n",
      "dtype: int64\n"
     ]
    }
   ],
   "source": [
    "print(data.isnull().sum())"
   ]
  },
  {
   "cell_type": "markdown",
   "id": "9eaad0a3",
   "metadata": {},
   "source": [
    "### We don't have any null value"
   ]
  },
  {
   "cell_type": "markdown",
   "id": "d3eabd87",
   "metadata": {},
   "source": [
    "# Let's try some visualizations using Matplotlib and Seaborn"
   ]
  },
  {
   "cell_type": "code",
   "execution_count": 49,
   "id": "6e8ccd1b",
   "metadata": {},
   "outputs": [
    {
     "data": {
      "image/png": "[encoded data removed]",
      "text/plain": [
       "<Figure size 2160x720 with 1 Axes>"
      ]
     },
     "metadata": {
      "needs_background": "light"
     },
     "output_type": "display_data"
    }
   ],
   "source": [
    "fig = plt.figure(figsize=(30,10))\n",
    "fig.add_subplot(121)\n",
    "plt.title('Observation')\n",
    "sns.barplot(data=data, x='Price',y='Revenue',hue='Wilaya')\n",
    "plt.show()"
   ]
  },
  {
   "cell_type": "markdown",
   "id": "208254ea",
   "metadata": {},
   "source": [
    "# Converting Wilayas to their Zip codes (48 wilayas)"
   ]
  },
  {
   "cell_type": "code",
   "execution_count": 50,
   "id": "c1fd1d18",
   "metadata": {},
   "outputs": [],
   "source": [
    "data['Wilaya']=data['Wilaya'].replace(['Tipaza', 'Tizi Ouzou', 'Djelfa', 'Alger Est', 'Alger Ouest', 'Medea', 'Ain Defla', 'Bouira','Boumerdes', 'Laghouat','Gherdaia','Blida'],[42,15,17,61,16,26,44,10,35,3,47,9])"
   ]
  },
  {
   "cell_type": "markdown",
   "id": "5db7139b",
   "metadata": {},
   "source": [
    "## Observation of Wilayas after the conversion"
   ]
  },
  {
   "cell_type": "code",
   "execution_count": 51,
   "id": "2407a433",
   "metadata": {},
   "outputs": [
    {
     "data": {
      "text/plain": [
       "<AxesSubplot:title={'center':'Wilaya observation'}, xlabel='Wilaya', ylabel='Frequency'>"
      ]
     },
     "execution_count": 51,
     "metadata": {},
     "output_type": "execute_result"
    },
    {
     "data": {
      "image/png": "[encoded data removed]",
      "text/plain": [
       "<Figure size 432x288 with 1 Axes>"
      ]
     },
     "metadata": {
      "needs_background": "light"
     },
     "output_type": "display_data"
    }
   ],
   "source": [
    "plt.title(\"Wilaya observation\")\n",
    "plt.xlabel(\"Wilaya\")\n",
    "data['Wilaya'].plot.hist(color = 'Cyan')"
   ]
  },
  {
   "cell_type": "markdown",
   "id": "b1483676",
   "metadata": {},
   "source": [
    "# Visualization of Wilayas vs Revenue"
   ]
  },
  {
   "cell_type": "code",
   "execution_count": 52,
   "id": "0cbd1dd8",
   "metadata": {},
   "outputs": [
    {
     "data": {
      "text/plain": [
       "<AxesSubplot:title={'center':'Wilaya x Revenue'}, xlabel='Wilaya', ylabel='Revenue'>"
      ]
     },
     "execution_count": 52,
     "metadata": {},
     "output_type": "execute_result"
    },
    {
     "data": {
      "image/png": "[encoded data removed]",
      "text/plain": [
       "<Figure size 432x288 with 1 Axes>"
      ]
     },
     "metadata": {
      "needs_background": "light"
     },
     "output_type": "display_data"
    }
   ],
   "source": [
    "plt.xlabel(\"Wilaya\")\n",
    "plt.ylabel(\"Revenue\")\n",
    "plt.title(\"Wilaya x Revenue\")\n",
    "visu = data[\"Wilaya\"].value_counts()\n",
    "visu.plot.bar(rot=45)"
   ]
  },
  {
   "cell_type": "markdown",
   "id": "0b67c41c",
   "metadata": {},
   "source": [
    "### Result : \n",
    "As we can see, Algiers (16) has the most significant revenue rate."
   ]
  },
  {
   "cell_type": "markdown",
   "id": "0ac14487",
   "metadata": {},
   "source": [
    "# Plotting the correlation map"
   ]
  },
  {
   "cell_type": "code",
   "execution_count": 53,
   "id": "e244f591",
   "metadata": {},
   "outputs": [],
   "source": [
    "def plot_correlation_map(data):\n",
    "    corr = data.corr()\n",
    "    s , ax = plt.subplots( figsize =( 12 , 10 ) )\n",
    "    cmap = sns.diverging_palette( 220 , 10 , as_cmap = True )\n",
    "    s = sns.heatmap(\n",
    "        corr, \n",
    "        cmap = cmap,\n",
    "        square=True, \n",
    "        cbar_kws={ 'shrink' : .9 }, \n",
    "        ax=ax, \n",
    "        annot = True, \n",
    "        annot_kws = { 'fontsize' : 12 }\n",
    "    )\n",
    "\n",
    "def category_values(Revenue, Wilaya):\n",
    "    for c in Survived:\n",
    "        print('\\n', Revenue.groupby(by=c)[c].count().sort_values(ascending=False))\n",
    "        print('Nulls: ', Revenue[c].isnull().sum())"
   ]
  },
  {
   "cell_type": "code",
   "execution_count": 54,
   "id": "790ff1f7",
   "metadata": {},
   "outputs": [
    {
     "data": {
      "image/png": "[encoded data removed]",
      "text/plain": [
       "<Figure size 864x720 with 2 Axes>"
      ]
     },
     "metadata": {
      "needs_background": "light"
     },
     "output_type": "display_data"
    }
   ],
   "source": [
    "plot_correlation_map(data)"
   ]
  },
  {
   "cell_type": "markdown",
   "id": "77d3da99",
   "metadata": {},
   "source": [
    "### The mean of Wilaya and Revenue"
   ]
  },
  {
   "cell_type": "code",
   "execution_count": 55,
   "id": "f43e8d85",
   "metadata": {},
   "outputs": [
    {
     "data": {
      "text/html": [
       "<div>\n",
       "<style scoped>\n",
       "    .dataframe tbody tr th:only-of-type {\n",
       "        vertical-align: middle;\n",
       "    }\n",
       "\n",
       "    .dataframe tbody tr th {\n",
       "        vertical-align: top;\n",
       "    }\n",
       "\n",
       "    .dataframe thead th {\n",
       "        text-align: right;\n",
       "    }\n",
       "</style>\n",
       "<table border=\"1\" class=\"dataframe\">\n",
       "  <thead>\n",
       "    <tr style=\"text-align: right;\">\n",
       "      <th></th>\n",
       "      <th>Wilaya</th>\n",
       "    </tr>\n",
       "    <tr>\n",
       "      <th>Revenue</th>\n",
       "      <th></th>\n",
       "    </tr>\n",
       "  </thead>\n",
       "  <tbody>\n",
       "    <tr>\n",
       "      <th>0</th>\n",
       "      <td>28.738554</td>\n",
       "    </tr>\n",
       "    <tr>\n",
       "      <th>19700</th>\n",
       "      <td>29.247359</td>\n",
       "    </tr>\n",
       "    <tr>\n",
       "      <th>23400</th>\n",
       "      <td>26.909091</td>\n",
       "    </tr>\n",
       "    <tr>\n",
       "      <th>24400</th>\n",
       "      <td>23.927711</td>\n",
       "    </tr>\n",
       "    <tr>\n",
       "      <th>25200</th>\n",
       "      <td>28.561629</td>\n",
       "    </tr>\n",
       "    <tr>\n",
       "      <th>...</th>\n",
       "      <td>...</td>\n",
       "    </tr>\n",
       "    <tr>\n",
       "      <th>8049600</th>\n",
       "      <td>16.000000</td>\n",
       "    </tr>\n",
       "    <tr>\n",
       "      <th>8240400</th>\n",
       "      <td>9.000000</td>\n",
       "    </tr>\n",
       "    <tr>\n",
       "      <th>8335400</th>\n",
       "      <td>16.000000</td>\n",
       "    </tr>\n",
       "    <tr>\n",
       "      <th>8649000</th>\n",
       "      <td>16.000000</td>\n",
       "    </tr>\n",
       "    <tr>\n",
       "      <th>16788200</th>\n",
       "      <td>16.000000</td>\n",
       "    </tr>\n",
       "  </tbody>\n",
       "</table>\n",
       "<p>599 rows × 1 columns</p>\n",
       "</div>"
      ],
      "text/plain": [
       "             Wilaya\n",
       "Revenue            \n",
       "0         28.738554\n",
       "19700     29.247359\n",
       "23400     26.909091\n",
       "24400     23.927711\n",
       "25200     28.561629\n",
       "...             ...\n",
       "8049600   16.000000\n",
       "8240400    9.000000\n",
       "8335400   16.000000\n",
       "8649000   16.000000\n",
       "16788200  16.000000\n",
       "\n",
       "[599 rows x 1 columns]"
      ]
     },
     "execution_count": 55,
     "metadata": {},
     "output_type": "execute_result"
    }
   ],
   "source": [
    "data[[\"Revenue\", \"Wilaya\"]].groupby([\"Revenue\"], as_index=True).mean()"
   ]
  },
  {
   "cell_type": "markdown",
   "id": "3b0ad411",
   "metadata": {},
   "source": [
    "### The mean of Wilaya and Sell out"
   ]
  },
  {
   "cell_type": "code",
   "execution_count": 56,
   "id": "9e3e4cbb",
   "metadata": {},
   "outputs": [
    {
     "data": {
      "text/html": [
       "<div>\n",
       "<style scoped>\n",
       "    .dataframe tbody tr th:only-of-type {\n",
       "        vertical-align: middle;\n",
       "    }\n",
       "\n",
       "    .dataframe tbody tr th {\n",
       "        vertical-align: top;\n",
       "    }\n",
       "\n",
       "    .dataframe thead th {\n",
       "        text-align: right;\n",
       "    }\n",
       "</style>\n",
       "<table border=\"1\" class=\"dataframe\">\n",
       "  <thead>\n",
       "    <tr style=\"text-align: right;\">\n",
       "      <th></th>\n",
       "      <th>Wilaya</th>\n",
       "    </tr>\n",
       "    <tr>\n",
       "      <th>Sell out</th>\n",
       "      <th></th>\n",
       "    </tr>\n",
       "  </thead>\n",
       "  <tbody>\n",
       "    <tr>\n",
       "      <th>0</th>\n",
       "      <td>28.771668</td>\n",
       "    </tr>\n",
       "    <tr>\n",
       "      <th>1</th>\n",
       "      <td>29.093285</td>\n",
       "    </tr>\n",
       "    <tr>\n",
       "      <th>2</th>\n",
       "      <td>29.082435</td>\n",
       "    </tr>\n",
       "    <tr>\n",
       "      <th>3</th>\n",
       "      <td>29.322987</td>\n",
       "    </tr>\n",
       "    <tr>\n",
       "      <th>4</th>\n",
       "      <td>29.756481</td>\n",
       "    </tr>\n",
       "    <tr>\n",
       "      <th>...</th>\n",
       "      <td>...</td>\n",
       "    </tr>\n",
       "    <tr>\n",
       "      <th>210</th>\n",
       "      <td>16.000000</td>\n",
       "    </tr>\n",
       "    <tr>\n",
       "      <th>229</th>\n",
       "      <td>9.000000</td>\n",
       "    </tr>\n",
       "    <tr>\n",
       "      <th>237</th>\n",
       "      <td>16.000000</td>\n",
       "    </tr>\n",
       "    <tr>\n",
       "      <th>260</th>\n",
       "      <td>16.000000</td>\n",
       "    </tr>\n",
       "    <tr>\n",
       "      <th>271</th>\n",
       "      <td>9.000000</td>\n",
       "    </tr>\n",
       "  </tbody>\n",
       "</table>\n",
       "<p>136 rows × 1 columns</p>\n",
       "</div>"
      ],
      "text/plain": [
       "             Wilaya\n",
       "Sell out           \n",
       "0         28.771668\n",
       "1         29.093285\n",
       "2         29.082435\n",
       "3         29.322987\n",
       "4         29.756481\n",
       "...             ...\n",
       "210       16.000000\n",
       "229        9.000000\n",
       "237       16.000000\n",
       "260       16.000000\n",
       "271        9.000000\n",
       "\n",
       "[136 rows x 1 columns]"
      ]
     },
     "execution_count": 56,
     "metadata": {},
     "output_type": "execute_result"
    }
   ],
   "source": [
    "data[[\"Sell out\", \"Wilaya\"]].groupby([\"Sell out\"], as_index=True).mean()"
   ]
  },
  {
   "cell_type": "markdown",
   "id": "042950ae",
   "metadata": {},
   "source": [
    "### The mean of Revenue and Price"
   ]
  },
  {
   "cell_type": "code",
   "execution_count": 57,
   "id": "8e5b98b2",
   "metadata": {},
   "outputs": [
    {
     "data": {
      "text/html": [
       "<div>\n",
       "<style scoped>\n",
       "    .dataframe tbody tr th:only-of-type {\n",
       "        vertical-align: middle;\n",
       "    }\n",
       "\n",
       "    .dataframe tbody tr th {\n",
       "        vertical-align: top;\n",
       "    }\n",
       "\n",
       "    .dataframe thead th {\n",
       "        text-align: right;\n",
       "    }\n",
       "</style>\n",
       "<table border=\"1\" class=\"dataframe\">\n",
       "  <thead>\n",
       "    <tr style=\"text-align: right;\">\n",
       "      <th></th>\n",
       "      <th>Price</th>\n",
       "    </tr>\n",
       "    <tr>\n",
       "      <th>Revenue</th>\n",
       "      <th></th>\n",
       "    </tr>\n",
       "  </thead>\n",
       "  <tbody>\n",
       "    <tr>\n",
       "      <th>0</th>\n",
       "      <td>38175.847466</td>\n",
       "    </tr>\n",
       "    <tr>\n",
       "      <th>19700</th>\n",
       "      <td>19700.000000</td>\n",
       "    </tr>\n",
       "    <tr>\n",
       "      <th>23400</th>\n",
       "      <td>23400.000000</td>\n",
       "    </tr>\n",
       "    <tr>\n",
       "      <th>24400</th>\n",
       "      <td>24400.000000</td>\n",
       "    </tr>\n",
       "    <tr>\n",
       "      <th>25200</th>\n",
       "      <td>25200.000000</td>\n",
       "    </tr>\n",
       "    <tr>\n",
       "      <th>...</th>\n",
       "      <td>...</td>\n",
       "    </tr>\n",
       "    <tr>\n",
       "      <th>8049600</th>\n",
       "      <td>55900.000000</td>\n",
       "    </tr>\n",
       "    <tr>\n",
       "      <th>8240400</th>\n",
       "      <td>25200.000000</td>\n",
       "    </tr>\n",
       "    <tr>\n",
       "      <th>8335400</th>\n",
       "      <td>58700.000000</td>\n",
       "    </tr>\n",
       "    <tr>\n",
       "      <th>8649000</th>\n",
       "      <td>27900.000000</td>\n",
       "    </tr>\n",
       "    <tr>\n",
       "      <th>16788200</th>\n",
       "      <td>58700.000000</td>\n",
       "    </tr>\n",
       "  </tbody>\n",
       "</table>\n",
       "<p>599 rows × 1 columns</p>\n",
       "</div>"
      ],
      "text/plain": [
       "                 Price\n",
       "Revenue               \n",
       "0         38175.847466\n",
       "19700     19700.000000\n",
       "23400     23400.000000\n",
       "24400     24400.000000\n",
       "25200     25200.000000\n",
       "...                ...\n",
       "8049600   55900.000000\n",
       "8240400   25200.000000\n",
       "8335400   58700.000000\n",
       "8649000   27900.000000\n",
       "16788200  58700.000000\n",
       "\n",
       "[599 rows x 1 columns]"
      ]
     },
     "execution_count": 57,
     "metadata": {},
     "output_type": "execute_result"
    }
   ],
   "source": [
    "data[[\"Revenue\", \"Price\"]].groupby([\"Revenue\"], as_index=True).mean()"
   ]
  },
  {
   "cell_type": "markdown",
   "id": "c4455217",
   "metadata": {},
   "source": [
    "# Knn Definition\n",
    "## K-Nearest-Neighbor algorithm, often abbreviated K-NN, is used to classify new data based on the assumption that it’s similar to its K nearest neighbors."
   ]
  },
  {
   "cell_type": "markdown",
   "id": "aa6d3adc",
   "metadata": {},
   "source": [
    "# Knn Steps\n",
    "## For a given data point x of an unknown class:\n",
    "•\tIntroduce the value of K.\n",
    "\n",
    "•\tCalculate the distance between x and all the data points in the training data.\n",
    "\n",
    "•\tModel picks K entries in the database which are closest to the new data point.\n",
    "\n",
    "•\tThen it takes the majority vote i.e the most common class/label among those K entries and that will be the class of the new data point.\n"
   ]
  },
  {
   "cell_type": "markdown",
   "id": "40002672",
   "metadata": {},
   "source": [
    "### Choosing the features as x and the target as y"
   ]
  },
  {
   "cell_type": "code",
   "execution_count": 58,
   "id": "f0d8cab7",
   "metadata": {},
   "outputs": [
    {
     "data": {
      "text/html": [
       "<div>\n",
       "<style scoped>\n",
       "    .dataframe tbody tr th:only-of-type {\n",
       "        vertical-align: middle;\n",
       "    }\n",
       "\n",
       "    .dataframe tbody tr th {\n",
       "        vertical-align: top;\n",
       "    }\n",
       "\n",
       "    .dataframe thead th {\n",
       "        text-align: right;\n",
       "    }\n",
       "</style>\n",
       "<table border=\"1\" class=\"dataframe\">\n",
       "  <thead>\n",
       "    <tr style=\"text-align: right;\">\n",
       "      <th></th>\n",
       "      <th>Wilaya</th>\n",
       "      <th>Mois</th>\n",
       "      <th>Colonne1</th>\n",
       "      <th>Modeles</th>\n",
       "      <th>Price</th>\n",
       "      <th>Levels</th>\n",
       "      <th>Sell in</th>\n",
       "      <th>Sell out</th>\n",
       "      <th>Monthly Stock Turnover</th>\n",
       "      <th>Revenue</th>\n",
       "    </tr>\n",
       "  </thead>\n",
       "  <tbody>\n",
       "    <tr>\n",
       "      <th>0</th>\n",
       "      <td>42</td>\n",
       "      <td>1</td>\n",
       "      <td>1</td>\n",
       "      <td>A5s</td>\n",
       "      <td>25200</td>\n",
       "      <td>Level C</td>\n",
       "      <td>6</td>\n",
       "      <td>8</td>\n",
       "      <td>0.75</td>\n",
       "      <td>151200</td>\n",
       "    </tr>\n",
       "    <tr>\n",
       "      <th>1</th>\n",
       "      <td>42</td>\n",
       "      <td>1</td>\n",
       "      <td>1</td>\n",
       "      <td>A1K</td>\n",
       "      <td>19700</td>\n",
       "      <td>Level C</td>\n",
       "      <td>2</td>\n",
       "      <td>4</td>\n",
       "      <td>0.50</td>\n",
       "      <td>39400</td>\n",
       "    </tr>\n",
       "    <tr>\n",
       "      <th>2</th>\n",
       "      <td>42</td>\n",
       "      <td>1</td>\n",
       "      <td>1</td>\n",
       "      <td>Reno 2F</td>\n",
       "      <td>55900</td>\n",
       "      <td>Level C</td>\n",
       "      <td>0</td>\n",
       "      <td>0</td>\n",
       "      <td>0.00</td>\n",
       "      <td>0</td>\n",
       "    </tr>\n",
       "    <tr>\n",
       "      <th>3</th>\n",
       "      <td>42</td>\n",
       "      <td>1</td>\n",
       "      <td>1</td>\n",
       "      <td>A31 (4+64)</td>\n",
       "      <td>32600</td>\n",
       "      <td>Level C</td>\n",
       "      <td>0</td>\n",
       "      <td>0</td>\n",
       "      <td>0.00</td>\n",
       "      <td>0</td>\n",
       "    </tr>\n",
       "    <tr>\n",
       "      <th>4</th>\n",
       "      <td>42</td>\n",
       "      <td>1</td>\n",
       "      <td>1</td>\n",
       "      <td>Reno 3</td>\n",
       "      <td>58700</td>\n",
       "      <td>Level C</td>\n",
       "      <td>0</td>\n",
       "      <td>0</td>\n",
       "      <td>0.00</td>\n",
       "      <td>0</td>\n",
       "    </tr>\n",
       "    <tr>\n",
       "      <th>...</th>\n",
       "      <td>...</td>\n",
       "      <td>...</td>\n",
       "      <td>...</td>\n",
       "      <td>...</td>\n",
       "      <td>...</td>\n",
       "      <td>...</td>\n",
       "      <td>...</td>\n",
       "      <td>...</td>\n",
       "      <td>...</td>\n",
       "      <td>...</td>\n",
       "    </tr>\n",
       "    <tr>\n",
       "      <th>129002</th>\n",
       "      <td>9</td>\n",
       "      <td>11</td>\n",
       "      <td>11</td>\n",
       "      <td>A93</td>\n",
       "      <td>51900</td>\n",
       "      <td>New shop</td>\n",
       "      <td>0</td>\n",
       "      <td>0</td>\n",
       "      <td>0.00</td>\n",
       "      <td>0</td>\n",
       "    </tr>\n",
       "    <tr>\n",
       "      <th>129003</th>\n",
       "      <td>42</td>\n",
       "      <td>11</td>\n",
       "      <td>11</td>\n",
       "      <td>A93</td>\n",
       "      <td>51900</td>\n",
       "      <td>Level D</td>\n",
       "      <td>0</td>\n",
       "      <td>0</td>\n",
       "      <td>0.00</td>\n",
       "      <td>0</td>\n",
       "    </tr>\n",
       "    <tr>\n",
       "      <th>129004</th>\n",
       "      <td>16</td>\n",
       "      <td>11</td>\n",
       "      <td>11</td>\n",
       "      <td>A93</td>\n",
       "      <td>51900</td>\n",
       "      <td>New shop</td>\n",
       "      <td>0</td>\n",
       "      <td>0</td>\n",
       "      <td>0.00</td>\n",
       "      <td>0</td>\n",
       "    </tr>\n",
       "    <tr>\n",
       "      <th>129005</th>\n",
       "      <td>10</td>\n",
       "      <td>11</td>\n",
       "      <td>11</td>\n",
       "      <td>A93</td>\n",
       "      <td>51900</td>\n",
       "      <td>Level D</td>\n",
       "      <td>0</td>\n",
       "      <td>0</td>\n",
       "      <td>0.00</td>\n",
       "      <td>0</td>\n",
       "    </tr>\n",
       "    <tr>\n",
       "      <th>129006</th>\n",
       "      <td>35</td>\n",
       "      <td>11</td>\n",
       "      <td>11</td>\n",
       "      <td>A93</td>\n",
       "      <td>51900</td>\n",
       "      <td>New shop</td>\n",
       "      <td>0</td>\n",
       "      <td>0</td>\n",
       "      <td>0.00</td>\n",
       "      <td>0</td>\n",
       "    </tr>\n",
       "  </tbody>\n",
       "</table>\n",
       "<p>129007 rows × 10 columns</p>\n",
       "</div>"
      ],
      "text/plain": [
       "        Wilaya  Mois  Colonne1     Modeles  Price     Levels  Sell in  \\\n",
       "0           42     1         1         A5s  25200    Level C        6   \n",
       "1           42     1         1         A1K  19700    Level C        2   \n",
       "2           42     1         1     Reno 2F  55900    Level C        0   \n",
       "3           42     1         1  A31 (4+64)  32600    Level C        0   \n",
       "4           42     1         1      Reno 3  58700    Level C        0   \n",
       "...        ...   ...       ...         ...    ...        ...      ...   \n",
       "129002       9    11        11         A93  51900  New shop         0   \n",
       "129003      42    11        11         A93  51900    Level D        0   \n",
       "129004      16    11        11         A93  51900  New shop         0   \n",
       "129005      10    11        11         A93  51900    Level D        0   \n",
       "129006      35    11        11         A93  51900  New shop         0   \n",
       "\n",
       "        Sell out  Monthly Stock Turnover  Revenue  \n",
       "0              8                    0.75   151200  \n",
       "1              4                    0.50    39400  \n",
       "2              0                    0.00        0  \n",
       "3              0                    0.00        0  \n",
       "4              0                    0.00        0  \n",
       "...          ...                     ...      ...  \n",
       "129002         0                    0.00        0  \n",
       "129003         0                    0.00        0  \n",
       "129004         0                    0.00        0  \n",
       "129005         0                    0.00        0  \n",
       "129006         0                    0.00        0  \n",
       "\n",
       "[129007 rows x 10 columns]"
      ]
     },
     "execution_count": 58,
     "metadata": {},
     "output_type": "execute_result"
    }
   ],
   "source": [
    "x=data[['Wilaya','Price','Sell in','Sell out']]\n",
    "y=data['Revenue']\n",
    "data"
   ]
  },
  {
   "cell_type": "markdown",
   "id": "44c8a08d",
   "metadata": {},
   "source": [
    "# Knn Code "
   ]
  },
  {
   "cell_type": "code",
   "execution_count": 66,
   "id": "06dd0311",
   "metadata": {},
   "outputs": [
    {
     "name": "stdout",
     "output_type": "stream",
     "text": [
      "Acuuracy= 0.9146190217812573\n"
     ]
    }
   ],
   "source": [
    "x_train,x_test,y_train,y_test=train_test_split(x,y,test_size=0.2,random_state=30) #split our data with test size of 30% \n",
    "\n",
    "knn=KNeighborsClassifier(n_neighbors=20) #build our knn classifier\n",
    "knn.fit(x_train,y_train) #Training KNN classifier\n",
    "y_pred=knn.predict(x_test)  #Testing\n",
    "print('Acuuracy=',accuracy_score(y_pred,y_test))"
   ]
  },
  {
   "cell_type": "markdown",
   "id": "49dcc72b",
   "metadata": {},
   "source": [
    "# Optimal K Value"
   ]
  },
  {
   "cell_type": "code",
   "execution_count": 60,
   "id": "c0068e3c",
   "metadata": {},
   "outputs": [
    {
     "name": "stdout",
     "output_type": "stream",
     "text": [
      "Accuracy for k= 1 is: 0.92\n",
      "Accuracy for k= 2 is: 0.92\n",
      "Accuracy for k= 3 is: 0.92\n",
      "Accuracy for k= 4 is: 0.92\n",
      "Accuracy for k= 5 is: 0.92\n",
      "Accuracy for k= 6 is: 0.92\n",
      "Accuracy for k= 7 is: 0.93\n",
      "Accuracy for k= 8 is: 0.93\n",
      "Accuracy for k= 9 is: 0.93\n",
      "Accuracy for k= 10 is: 0.93\n",
      "Accuracy for k= 11 is: 0.93\n",
      "Accuracy for k= 12 is: 0.94\n",
      "Accuracy for k= 13 is: 0.94\n",
      "Accuracy for k= 14 is: 0.94\n",
      "Accuracy for k= 15 is: 0.94\n",
      "Accuracy for k= 16 is: 0.94\n",
      "Accuracy for k= 17 is: 0.95\n",
      "Accuracy for k= 18 is: 0.95\n",
      "Accuracy for k= 19 is: 0.96\n"
     ]
    }
   ],
   "source": [
    "n_neighbors=20\n",
    "scores=[]\n",
    "for k in range(1,20):\n",
    "    knn=KNeighborsClassifier(n_neighbors-k)\n",
    "    knn.fit(x_train,y_train)\n",
    "    y_pred=knn.predict(x_test)\n",
    "    print('Accuracy for k=',k,'is:',round(accuracy_score(y_pred,y_test),2))\n",
    "    scores.append(round(accuracy_score(y_pred,y_test),2))"
   ]
  },
  {
   "cell_type": "markdown",
   "id": "28d8b21c",
   "metadata": {},
   "source": [
    "# The best Accuracy"
   ]
  },
  {
   "cell_type": "code",
   "execution_count": 61,
   "id": "a6189b1e",
   "metadata": {},
   "outputs": [
    {
     "name": "stdout",
     "output_type": "stream",
     "text": [
      "the best Accuracy is 0.96\n",
      "best k is : 19\n"
     ]
    }
   ],
   "source": [
    "print(\"the best Accuracy is\",np.max(scores))\n",
    "print(\"best k is :\", np.argmax(scores)+1)"
   ]
  },
  {
   "cell_type": "code",
   "execution_count": 62,
   "id": "441f1243",
   "metadata": {},
   "outputs": [
    {
     "data": {
      "text/plain": [
       "[<matplotlib.lines.Line2D at 0x11abd0d2d60>]"
      ]
     },
     "execution_count": 62,
     "metadata": {},
     "output_type": "execute_result"
    },
    {
     "data": {
      "image/png": "[encoded data removed]",
      "text/plain": [
       "<Figure size 432x288 with 1 Axes>"
      ]
     },
     "metadata": {
      "needs_background": "light"
     },
     "output_type": "display_data"
    }
   ],
   "source": [
    "plt.plot(range(1,20),scores)"
   ]
  }
 ],
 "metadata": {
  "kernelspec": {
   "display_name": "Python 3 (ipykernel)",
   "language": "python",
   "name": "python3"
  },
  "language_info": {
   "codemirror_mode": {
    "name": "ipython",
    "version": 3
   },
   "file_extension": ".py",
   "mimetype": "text/x-python",
   "name": "python",
   "nbconvert_exporter": "python",
   "pygments_lexer": "ipython3",
   "version": "3.9.7"
  }
 },
 "nbformat": 4,
 "nbformat_minor": 5
}
